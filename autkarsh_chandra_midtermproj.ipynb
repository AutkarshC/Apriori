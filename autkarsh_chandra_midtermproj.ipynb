{
 "cells": [
  {
   "cell_type": "markdown",
   "metadata": {},
   "source": [
    "Importing libraries"
   ]
  },
  {
   "cell_type": "code",
   "execution_count": 1,
   "metadata": {},
   "outputs": [],
   "source": [
    "import pandas as pd\n",
    "import itertools\n",
    "from itertools import combinations\n",
    "from itertools import chain"
   ]
  },
  {
   "cell_type": "markdown",
   "metadata": {},
   "source": [
    "Importing dataset"
   ]
  },
  {
   "cell_type": "code",
   "execution_count": 2,
   "metadata": {},
   "outputs": [],
   "source": [
    "df = pd.read_csv(\"/Users/utkarshchandra/Downloads/DM/gc.csv\",header=None)"
   ]
  },
  {
   "cell_type": "code",
   "execution_count": 3,
   "metadata": {},
   "outputs": [
    {
     "data": {
      "text/html": [
       "<div>\n",
       "<style scoped>\n",
       "    .dataframe tbody tr th:only-of-type {\n",
       "        vertical-align: middle;\n",
       "    }\n",
       "\n",
       "    .dataframe tbody tr th {\n",
       "        vertical-align: top;\n",
       "    }\n",
       "\n",
       "    .dataframe thead th {\n",
       "        text-align: right;\n",
       "    }\n",
       "</style>\n",
       "<table border=\"1\" class=\"dataframe\">\n",
       "  <thead>\n",
       "    <tr style=\"text-align: right;\">\n",
       "      <th></th>\n",
       "      <th>0</th>\n",
       "      <th>1</th>\n",
       "      <th>2</th>\n",
       "      <th>3</th>\n",
       "      <th>4</th>\n",
       "    </tr>\n",
       "  </thead>\n",
       "  <tbody>\n",
       "    <tr>\n",
       "      <th>0</th>\n",
       "      <td>A</td>\n",
       "      <td>B</td>\n",
       "      <td>C</td>\n",
       "      <td>NaN</td>\n",
       "      <td>NaN</td>\n",
       "    </tr>\n",
       "    <tr>\n",
       "      <th>1</th>\n",
       "      <td>A</td>\n",
       "      <td>B</td>\n",
       "      <td>C</td>\n",
       "      <td>NaN</td>\n",
       "      <td>NaN</td>\n",
       "    </tr>\n",
       "    <tr>\n",
       "      <th>2</th>\n",
       "      <td>A</td>\n",
       "      <td>B</td>\n",
       "      <td>C</td>\n",
       "      <td>D</td>\n",
       "      <td>NaN</td>\n",
       "    </tr>\n",
       "    <tr>\n",
       "      <th>3</th>\n",
       "      <td>A</td>\n",
       "      <td>B</td>\n",
       "      <td>C</td>\n",
       "      <td>D</td>\n",
       "      <td>E</td>\n",
       "    </tr>\n",
       "    <tr>\n",
       "      <th>4</th>\n",
       "      <td>A</td>\n",
       "      <td>B</td>\n",
       "      <td>D</td>\n",
       "      <td>E</td>\n",
       "      <td>NaN</td>\n",
       "    </tr>\n",
       "  </tbody>\n",
       "</table>\n",
       "</div>"
      ],
      "text/plain": [
       "   0  1  2    3    4\n",
       "0  A  B  C  NaN  NaN\n",
       "1  A  B  C  NaN  NaN\n",
       "2  A  B  C    D  NaN\n",
       "3  A  B  C    D    E\n",
       "4  A  B  D    E  NaN"
      ]
     },
     "execution_count": 3,
     "metadata": {},
     "output_type": "execute_result"
    }
   ],
   "source": [
    "df.head()"
   ]
  },
  {
   "cell_type": "markdown",
   "metadata": {},
   "source": [
    "Calculating a list of all the records"
   ]
  },
  {
   "cell_type": "code",
   "execution_count": 4,
   "metadata": {},
   "outputs": [
    {
     "name": "stdout",
     "output_type": "stream",
     "text": [
      "The list of all records are:\n",
      "=============================================================================================================\n",
      "\n",
      "[['A', 'B', 'C', 'nan', 'nan'], ['A', 'B', 'C', 'nan', 'nan'], ['A', 'B', 'C', 'D', 'nan'], ['A', 'B', 'C', 'D', 'E'], ['A', 'B', 'D', 'E', 'nan'], ['A', 'D', 'E', 'nan', 'nan'], ['A', 'E', 'nan', 'nan', 'nan'], ['A', 'E', 'nan', 'nan', 'nan'], ['A', 'C', 'E', 'nan', 'nan'], ['A', 'C', 'E', 'nan', 'nan'], ['A', 'C', 'E', 'nan', 'nan'], ['B', 'C', 'D', 'E', 'nan'], ['B', 'C', 'D', 'nan', 'nan'], ['C', 'D', 'E', 'nan', 'nan'], ['B', 'D', 'E', 'nan', 'nan'], ['A', 'D', 'E', 'nan', 'nan'], ['A', 'D', 'nan', 'nan', 'nan'], ['B', 'C', 'nan', 'nan', 'nan'], ['A', 'B', 'C', 'nan', 'nan'], ['C', 'D', 'E', 'nan', 'nan']]\n"
     ]
    }
   ],
   "source": [
    "records = []\n",
    "for i in range(0, len(df)):\n",
    "    records.append([str(df.values[i,j]) for j in range(0, len(df.columns))])\n",
    "print('The list of all records are:')\n",
    "print('=============================================================================================================')\n",
    "print('')\n",
    "print(records)"
   ]
  },
  {
   "cell_type": "markdown",
   "metadata": {},
   "source": [
    "Removing nan values from the list of records"
   ]
  },
  {
   "cell_type": "code",
   "execution_count": 5,
   "metadata": {},
   "outputs": [],
   "source": [
    "items = sorted([item for sublist in records for item in sublist if item != 'nan'])"
   ]
  },
  {
   "cell_type": "markdown",
   "metadata": {},
   "source": [
    "Taking minimum support and confidence from user"
   ]
  },
  {
   "cell_type": "code",
   "execution_count": 6,
   "metadata": {},
   "outputs": [
    {
     "name": "stdout",
     "output_type": "stream",
     "text": [
      "Enter the minimum support, enter interger values between 1 to 100: 30\n",
      "\n"
     ]
    }
   ],
   "source": [
    "minSupport=float(input('Enter the minimum support, enter interger values between 1 to 100: '))\n",
    "print('')\n",
    "if minSupport < 1 or minSupport > 100:\n",
    "    print('Error, Please re-enter integer values between 1 to 100')\n",
    "else:\n",
    "    minSupport = (minSupport / 100) * len(df)"
   ]
  },
  {
   "cell_type": "code",
   "execution_count": 7,
   "metadata": {},
   "outputs": [
    {
     "name": "stdout",
     "output_type": "stream",
     "text": [
      "Enter the minimum confidence interval, enter interger values between 1 to 100: 70\n",
      "\n"
     ]
    }
   ],
   "source": [
    "minConfidence=float(input('Enter the minimum confidence interval, enter interger values between 1 to 100: '))\n",
    "print('')\n",
    "if minConfidence < 1 or minConfidence > 100:\n",
    "    print('Error, Please re-enter integer values between 1 to 100')\n",
    "else:\n",
    "    minConfidence = minConfidence / 100"
   ]
  },
  {
   "cell_type": "code",
   "execution_count": 8,
   "metadata": {},
   "outputs": [],
   "source": [
    "def sublist(lst1, lst2):\n",
    "    return set(lst1) <= set(lst2)"
   ]
  },
  {
   "cell_type": "code",
   "execution_count": 9,
   "metadata": {},
   "outputs": [],
   "source": [
    "def check_subset_frequency(itemset, l, n):\n",
    "    if n>1:    \n",
    "        subsets = list(itertools.combinations(itemset, n))\n",
    "    else:\n",
    "        subsets = itemset\n",
    "    for iter1 in subsets:\n",
    "        if not iter1 in l:\n",
    "            return False\n",
    "    return True"
   ]
  },
  {
   "cell_type": "markdown",
   "metadata": {},
   "source": [
    "Calculation of support greater than minimum support for C1"
   ]
  },
  {
   "cell_type": "code",
   "execution_count": 10,
   "metadata": {},
   "outputs": [],
   "source": [
    "def iteration_1(items, minimum_support_count):\n",
    "    c1 = {i:items.count(i) for i in items}\n",
    "    l1 = {}\n",
    "    for key, value in c1.items():\n",
    "        if value >= minimum_support_count:\n",
    "            l1[key] = value \n",
    "    \n",
    "    return c1, l1\n",
    "c1, l1 = iteration_1(items, minSupport)"
   ]
  },
  {
   "cell_type": "markdown",
   "metadata": {},
   "source": [
    "Calculation of support for 2nd iteration with support greater than minimum support C2"
   ]
  },
  {
   "cell_type": "code",
   "execution_count": 11,
   "metadata": {},
   "outputs": [],
   "source": [
    "def iteration_2(l1, records, minimum_support_count):\n",
    "    l1 = sorted(list(l1.keys()))\n",
    "    L1 = list(itertools.combinations(l1, 2))\n",
    "    c2 = {}\n",
    "    l2 = {}\n",
    "    for iter1 in L1:\n",
    "        count = 0\n",
    "        for iter2 in records:\n",
    "\n",
    "            if sublist(iter1, iter2):\n",
    "                count+=1\n",
    "        c2[iter1] = count\n",
    "    for key, value in c2.items():\n",
    "        if value >= minimum_support_count:\n",
    "            if check_subset_frequency(key, l1, 1):\n",
    "                l2[key] = value \n",
    "    \n",
    "    return c2, l2\n",
    "c2, l2 = iteration_2(l1, records, minSupport)"
   ]
  },
  {
   "cell_type": "markdown",
   "metadata": {},
   "source": [
    "Calculation of support for 3rd iteration with support greater than minimum support C3"
   ]
  },
  {
   "cell_type": "code",
   "execution_count": 12,
   "metadata": {},
   "outputs": [],
   "source": [
    "def iteration_3(l2, records, minimum_support_count):\n",
    "    l2 = list(l2.keys())\n",
    "    L2 = sorted(list(set([item for t in l2 for item in t])))\n",
    "    L2 = list(itertools.combinations(L2, 3))\n",
    "    c3 = {}\n",
    "    l3 = {}\n",
    "    for iter1 in L2:\n",
    "        count = 0\n",
    "        for iter2 in records:\n",
    "            if sublist(iter1, iter2):\n",
    "                count+=1\n",
    "        c3[iter1] = count\n",
    "    for key, value in c3.items():\n",
    "        if value >= minimum_support_count:\n",
    "            if check_subset_frequency(key, l2, 2):\n",
    "                l3[key] = value \n",
    "        \n",
    "    return c3, l3\n",
    "c3, l3 = iteration_3(l2, records, minSupport)"
   ]
  },
  {
   "cell_type": "markdown",
   "metadata": {},
   "source": [
    "Calculation of support for 4th iteration with support greater than minimum support C4"
   ]
  },
  {
   "cell_type": "code",
   "execution_count": 13,
   "metadata": {},
   "outputs": [],
   "source": [
    "def iteration_4(l3, records, minimum_support_count):\n",
    "    l3 = list(l3.keys())\n",
    "    L3 = sorted(list(set([item for t in l3 for item in t])))\n",
    "    L3 = list(itertools.combinations(L3, 4))\n",
    "    c4 = {}\n",
    "    l4 = {}\n",
    "    for iter1 in L3:\n",
    "        count = 0\n",
    "        for iter2 in records:\n",
    "            if sublist(iter1, iter2):\n",
    "                count+=1\n",
    "        c4[iter1] = count\n",
    "    for key, value in c4.items():\n",
    "        if value >= minimum_support_count:\n",
    "            if check_subset_frequency(key, l3, 3):\n",
    "                l4[key] = value \n",
    "        \n",
    "    return c4, l4\n",
    "c4, l4 = iteration_4(l3, records, minSupport)"
   ]
  },
  {
   "cell_type": "markdown",
   "metadata": {},
   "source": [
    "Calculation of support for 5th iteration with support greater than minimum support C5"
   ]
  },
  {
   "cell_type": "code",
   "execution_count": 14,
   "metadata": {},
   "outputs": [],
   "source": [
    "def iteration_5(l4, records, minimum_support_count):\n",
    "    l4 = list(l4.keys())\n",
    "    L4 = sorted(list(set([item for t in l4 for item in t])))\n",
    "    L4 = list(itertools.combinations(L4, 5))\n",
    "    c5 = {}\n",
    "    l5 = {}\n",
    "    for iter1 in L4:\n",
    "        count = 0\n",
    "        for iter2 in records:\n",
    "            if sublist(iter1, iter2):\n",
    "                count+=1\n",
    "        c5[iter1] = count\n",
    "    for key, value in c5.items():\n",
    "        if value >= minimum_support_count:\n",
    "            if check_subset_frequency(key, l4, 4):\n",
    "                l5[key] = value \n",
    "        \n",
    "    return c5, l5\n",
    "c5, l5 = iteration_5(l4, records, minSupport)"
   ]
  },
  {
   "cell_type": "markdown",
   "metadata": {},
   "source": [
    "Calculation of support for 6th iteration with support greater than minimum support C6"
   ]
  },
  {
   "cell_type": "code",
   "execution_count": 15,
   "metadata": {},
   "outputs": [],
   "source": [
    "def iteration_6(l5, records, minimum_support_count):\n",
    "    l5 = list(l5.keys())\n",
    "    L5 = sorted(list(set([item for t in l5 for item in t])))\n",
    "    L5 = list(itertools.combinations(L5, 6))\n",
    "    c6 = {}\n",
    "    l6 = {}\n",
    "    for iter1 in L5:\n",
    "        count = 0\n",
    "        for iter2 in records:\n",
    "            if sublist(iter1, iter2):\n",
    "                count+=1\n",
    "        c6[iter1] = count\n",
    "    for key, value in c6.items():\n",
    "        if value >= minimum_support_count:\n",
    "            if check_subset_frequency(key, l5, 5):\n",
    "                l6[key] = value \n",
    "        \n",
    "    return c6, l6\n",
    "c6, l6 = iteration_6(l5, records, minSupport)"
   ]
  },
  {
   "cell_type": "markdown",
   "metadata": {},
   "source": [
    "Calculation of support for 7th iteration with support greater than minimum support C7"
   ]
  },
  {
   "cell_type": "code",
   "execution_count": 16,
   "metadata": {},
   "outputs": [],
   "source": [
    "def iteration_7(l6, records, minimum_support_count):\n",
    "    l6 = list(l6.keys())\n",
    "    L6 = sorted(list(set([item for t in l6 for item in t])))\n",
    "    L6 = list(itertools.combinations(L6, 7))\n",
    "    c7 = {}\n",
    "    l7 = {}\n",
    "    for iter1 in L6:\n",
    "        count = 0\n",
    "        for iter2 in records:\n",
    "            if sublist(iter1, iter2):\n",
    "                count+=1\n",
    "        c7[iter1] = count\n",
    "    for key, value in c7.items():\n",
    "        if value >= minimum_support_count:\n",
    "            if check_subset_frequency(key, l6, 6):\n",
    "                l7[key] = value \n",
    "        \n",
    "    return c7, l7\n",
    "c7, l7 = iteration_7(l6, records, minSupport)"
   ]
  },
  {
   "cell_type": "markdown",
   "metadata": {},
   "source": [
    "Calculation of support for 8th iteration with support greater than minimum support C8"
   ]
  },
  {
   "cell_type": "code",
   "execution_count": 17,
   "metadata": {},
   "outputs": [],
   "source": [
    "def iteration_8(l7, records, minimum_support_count):\n",
    "    l7 = list(l7.keys())\n",
    "    L7 = sorted(list(set([item for t in l7 for item in t])))\n",
    "    L7 = list(itertools.combinations(L7, 8))\n",
    "    c8 = {}\n",
    "    l8 = {}\n",
    "    for iter1 in L7:\n",
    "        count = 0\n",
    "        for iter2 in records:\n",
    "            if sublist(iter1, iter2):\n",
    "                count+=1\n",
    "        c8[iter1] = count\n",
    "    for key, value in c8.items():\n",
    "        if value >= minimum_support_count:\n",
    "            if check_subset_frequency(key, l7, 7):\n",
    "                l8[key] = value \n",
    "        \n",
    "    return c8, l8\n",
    "c8, l8 = iteration_8(l7, records, minSupport)"
   ]
  },
  {
   "cell_type": "markdown",
   "metadata": {},
   "source": [
    "Calculation of support for 9th iteration with support greater than minimum support C9"
   ]
  },
  {
   "cell_type": "code",
   "execution_count": 18,
   "metadata": {},
   "outputs": [],
   "source": [
    "def iteration_9(l8, records, minimum_support_count):\n",
    "    l8 = list(l8.keys())\n",
    "    L8 = sorted(list(set([item for t in l8 for item in t])))\n",
    "    L8 = list(itertools.combinations(L8, 9))\n",
    "    c9 = {}\n",
    "    l9 = {}\n",
    "    for iter1 in L8:\n",
    "        count = 0\n",
    "        for iter2 in records:\n",
    "            if sublist(iter1, iter2):\n",
    "                count+=1\n",
    "        c9[iter1] = count\n",
    "    for key, value in c9.items():\n",
    "        if value >= minimum_support_count:\n",
    "            if check_subset_frequency(key, l8, 8):\n",
    "                l9[key] = value \n",
    "        \n",
    "    return c9, l9\n",
    "c9, l9 = iteration_9(l8, records, minSupport)"
   ]
  },
  {
   "cell_type": "markdown",
   "metadata": {},
   "source": [
    "All support items"
   ]
  },
  {
   "cell_type": "code",
   "execution_count": 19,
   "metadata": {},
   "outputs": [],
   "source": [
    "itemlist = {**l1, **l2, **l3, **l4, **l5, **l6, **l7, **l8, **l9}"
   ]
  },
  {
   "cell_type": "code",
   "execution_count": 20,
   "metadata": {},
   "outputs": [
    {
     "name": "stdout",
     "output_type": "stream",
     "text": [
      "Support is given as:\n",
      "===========================================================================================================\n"
     ]
    },
    {
     "data": {
      "text/plain": [
       "{'A': 14,\n",
       " 'B': 10,\n",
       " 'C': 13,\n",
       " 'D': 11,\n",
       " 'E': 13,\n",
       " ('A', 'B'): 6,\n",
       " ('A', 'C'): 8,\n",
       " ('A', 'D'): 6,\n",
       " ('A', 'E'): 9,\n",
       " ('B', 'C'): 8,\n",
       " ('B', 'D'): 6,\n",
       " ('C', 'D'): 6,\n",
       " ('C', 'E'): 7,\n",
       " ('D', 'E'): 8}"
      ]
     },
     "execution_count": 20,
     "metadata": {},
     "output_type": "execute_result"
    }
   ],
   "source": [
    "print('Support is given as:')\n",
    "print('===========================================================================================================')\n",
    "itemlist"
   ]
  },
  {
   "cell_type": "code",
   "execution_count": 21,
   "metadata": {},
   "outputs": [],
   "source": [
    "a2 = list(l2.keys())\n",
    "a3 = list(l3.keys())\n",
    "a4 = list(l4.keys())\n",
    "a5 = list(l5.keys())\n",
    "a6 = list(l6.keys())\n",
    "a7 = list(l7.keys())\n",
    "a8 = list(l8.keys())\n",
    "a9 = list(l9.keys())"
   ]
  },
  {
   "cell_type": "code",
   "execution_count": 22,
   "metadata": {},
   "outputs": [],
   "source": [
    "a = [a2, a3, a4, a5, a6, a7, a8, a9]"
   ]
  },
  {
   "cell_type": "code",
   "execution_count": 23,
   "metadata": {},
   "outputs": [],
   "source": [
    "def support_count(item):\n",
    "    item = list(item)\n",
    "    cnt = 0\n",
    "    for i in range(len(records)):\n",
    "        f1 = records[i]\n",
    "        if set(item).issubset(set(f1)):\n",
    "            cnt = cnt + 1\n",
    "    return(cnt)"
   ]
  },
  {
   "cell_type": "code",
   "execution_count": 24,
   "metadata": {},
   "outputs": [
    {
     "name": "stdout",
     "output_type": "stream",
     "text": [
      "Association Rules are given as: \n",
      "===========================================================================================================\n",
      "['B'] ==> ['C']\n",
      "confidence= 0.8\n",
      "\n",
      "['D'] ==> ['E']\n",
      "confidence= 0.7272727272727273\n",
      "\n"
     ]
    }
   ],
   "source": [
    "print(\"Association Rules are given as: \")\n",
    "print('===========================================================================================================')\n",
    "for i in range(len(a)):                   \n",
    "    for j in range(len(a[i])):\n",
    "        s=a[i][j]\n",
    "        a1=[]\n",
    "        for m in range(1,len(s)):\n",
    "            a1=list(combinations(s,m))\n",
    "            for k in range(len(a1)):\n",
    "                x1=list(a1[k])\n",
    "                y1=list(set(s)^set(x1))\n",
    "                confidence = support_count(list(s))/support_count(list(x1))\n",
    "                if confidence >= minConfidence:\n",
    "                    print(x1,'==>',y1)\n",
    "                    print('confidence=',confidence)\n",
    "                    print('')"
   ]
  },
  {
   "cell_type": "code",
   "execution_count": null,
   "metadata": {},
   "outputs": [],
   "source": []
  },
  {
   "cell_type": "code",
   "execution_count": null,
   "metadata": {},
   "outputs": [],
   "source": []
  }
 ],
 "metadata": {
  "kernelspec": {
   "display_name": "Python 3",
   "language": "python",
   "name": "python3"
  },
  "language_info": {
   "codemirror_mode": {
    "name": "ipython",
    "version": 3
   },
   "file_extension": ".py",
   "mimetype": "text/x-python",
   "name": "python",
   "nbconvert_exporter": "python",
   "pygments_lexer": "ipython3",
   "version": "3.8.5"
  }
 },
 "nbformat": 4,
 "nbformat_minor": 2
}
